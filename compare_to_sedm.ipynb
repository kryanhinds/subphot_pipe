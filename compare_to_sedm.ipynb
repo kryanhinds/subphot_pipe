{
 "cells": [
  {
   "cell_type": "code",
   "execution_count": 24,
   "metadata": {},
   "outputs": [],
   "source": [
    "import numpy as np\n",
    "import matplotlib.pyplot as plt\n",
    "import pandas as pd\n",
    "import glob\n",
    "import os\n",
    "from astropy.time import Time\n",
    "# print(os.path.exists(fold_name))\n"
   ]
  },
  {
   "cell_type": "code",
   "execution_count": 23,
   "metadata": {},
   "outputs": [],
   "source": [
    "fold_name='sedm_comps'\n",
    "even_name='ZTF23aalftvv'"
   ]
  },
  {
   "cell_type": "code",
   "execution_count": 26,
   "metadata": {},
   "outputs": [],
   "source": [
    "def read_phot_files(file_):\n",
    "    data1 = open(file_,'r')\n",
    "    line1,line2,line3 = np.asarray(data1.readlines()[:3])#.split(' ')[:-1])\n",
    "    # print(line1)#,line2)\n",
    "    line1 = line1.split(' ')[:-1] #data\n",
    "    # line2 telescope\n",
    "    # line 3 PSF shift in arcsec x y\n",
    "\n",
    "    line3 = [float(l) for l in line3.split(' ')[2].split(',')]\n",
    "    # print(line3)\n",
    "    if 'Liverpool' in line2:line1.append('LT')\n",
    "    else:line1.append(line2.split(' ')[-1][:-1])\n",
    "\n",
    "    line1.append(line3[0])\n",
    "    line1.append(line3[1])\n",
    "\n",
    "    return line1\n",
    "\n",
    "ind = [0,1,2,3,4,12,5,8,13,14]\n",
    "df = pd.DataFrame(columns=['name','filter','mjd','mag','mag_err','telescope','mag_lim','expt','psf_x_shift','psf_y_shift'])\n",
    "c=0\n",
    "\n",
    "not_stacked = []\n",
    "for file_ in glob.glob(fold_name+'/*photometry.txt'):\n",
    "    line1 = read_phot_files(file_)\n",
    "    df.loc[c] = [line1[i] for i in ind]\n",
    "    c+=1\n",
    "\n",
    "df['name'] =[name.replace('-ugriz','') for name in df['name']]\n",
    "df['mjd'] = df['mjd'].astype(float)\n",
    "df['mag'] = df['mag'].astype(float)\n",
    "df['mag_err'] = df['mag_err'].astype(float)\n",
    "df['telescope'] = df['telescope'].astype(str)\n",
    "df['filter'] = df['filter'].astype(str)\n",
    "df['mag_lim'] = df['mag_lim'].astype(float)\n",
    "df['expt'] = df['expt'].astype(float)\n",
    "\n",
    "df = df[df['name']==even_name]\n",
    "# print(df)\n",
    "df.sort_values(by='mjd').to_csv(fold_name+'/'+even_name+'_phot.csv',index=False)\n",
    "\n",
    "\n",
    "# day_now = 60503\n",
    "day_now = Time.now().mjd\n",
    "print"
   ]
  },
  {
   "cell_type": "code",
   "execution_count": null,
   "metadata": {},
   "outputs": [],
   "source": [
    "filt_cols = {'sdssg':'g','sdssr':'r','sdssi':'orange','sdssz':'brown','sdssu':'blue'}\n",
    "fig=plt.figure(figsize=(10,6))\n",
    "unique_filts = np.unique(df['filter'])\n",
    "\n",
    "for filt in unique_filts:\n",
    "    df_p60_ = df.loc[(df['filter']==filt)&(df['telescope']=='SEDM-P60')&(df['mag']<30)]\n",
    "    plt.errorbar(df_p60_['mjd'],df_lt_['mag'],yerr=df_lt_['mag_err'],fmt='o',label='RCCAM/P60 - KPIPE '+filt,alpha=0.5,color=filt_cols[filt])\n",
    "    df_p60_ul = df.loc[(df['mag']>30)&(df['filter']==filt)]\n",
    "    plt.scatter(df_p60_ul['mjd'],df_p60_ul['mag_lim'],marker='v',color=filt_cols[filt],alpha=0.5)\n",
    "\n",
    "\n",
    "plt.gca().invert_yaxis()\n",
    "plt.legend(loc='upper right',bbox_to_anchor=(1.3,1),ncols=2)\n",
    "plt.ylabel('Mag')\n",
    "plt.xlabel('Days ago'+' ('+str(day_now)+')')\n",
    "plt.xlim(60221.1,60221.16)\n",
    "\n",
    "df['mjd'].loc[(df['mjd']<=60221.16)&(df['mjd']>=60221.1)]\n",
    "# plt.axvline(60221.144359)"
   ]
  },
  {
   "cell_type": "code",
   "execution_count": null,
   "metadata": {},
   "outputs": [],
   "source": []
  }
 ],
 "metadata": {
  "kernelspec": {
   "display_name": "ltsub",
   "language": "python",
   "name": "python3"
  },
  "language_info": {
   "codemirror_mode": {
    "name": "ipython",
    "version": 3
   },
   "file_extension": ".py",
   "mimetype": "text/x-python",
   "name": "python",
   "nbconvert_exporter": "python",
   "pygments_lexer": "ipython3",
   "version": "3.11.6"
  }
 },
 "nbformat": 4,
 "nbformat_minor": 2
}
